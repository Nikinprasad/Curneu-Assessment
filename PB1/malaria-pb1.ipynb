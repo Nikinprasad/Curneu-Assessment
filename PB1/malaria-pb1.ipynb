{
 "cells": [
  {
   "cell_type": "markdown",
   "metadata": {},
   "source": [
    "# Curneu Problem Statement - 1\n",
    "### Nikinprasad V R\n",
    "### 1832038"
   ]
  },
  {
   "cell_type": "code",
   "execution_count": 1,
   "metadata": {},
   "outputs": [],
   "source": [
    "import numpy as np\n",
    "import pandas as pd\n",
    "import seaborn as sns\n",
    "import matplotlib.pyplot as plt\n",
    "\n",
    "import warnings\n",
    "warnings.filterwarnings('ignore')"
   ]
  },
  {
   "cell_type": "code",
   "execution_count": 2,
   "metadata": {},
   "outputs": [],
   "source": [
    "#--DATASET DECRIPTION--#\n",
    "rdata = pd.read_csv(r'D:\\#PROJECTS\\Curneu\\SD03Q016\\reported_numbers.csv')\n",
    "edata = pd.read_csv(r'D:\\#PROJECTS\\Curneu\\SD03Q016\\estimated_numbers.csv')\n",
    "idata = pd.read_csv(r'D:\\#PROJECTS\\Curneu\\SD03Q016\\incidence_per_1000_pop_at_risk.csv')"
   ]
  },
  {
   "cell_type": "code",
   "execution_count": 3,
   "metadata": {},
   "outputs": [
    {
     "name": "stdout",
     "output_type": "stream",
     "text": [
      "<class 'pandas.core.frame.DataFrame'>\n",
      "RangeIndex: 1944 entries, 0 to 1943\n",
      "Data columns (total 5 columns):\n",
      " #   Column         Non-Null Count  Dtype  \n",
      "---  ------         --------------  -----  \n",
      " 0   Country        1944 non-null   object \n",
      " 1   Year           1944 non-null   int64  \n",
      " 2   No. of cases   1710 non-null   float64\n",
      " 3   No. of deaths  1675 non-null   float64\n",
      " 4   WHO Region     1944 non-null   object \n",
      "dtypes: float64(2), int64(1), object(2)\n",
      "memory usage: 76.1+ KB\n",
      "       Country  Year  No. of cases  No. of deaths             WHO Region\n",
      "0  Afghanistan  2017      161778.0           10.0  Eastern Mediterranean\n",
      "1      Algeria  2017           0.0            0.0                 Africa\n",
      "2       Angola  2017     3874892.0        13967.0                 Africa\n",
      "3    Argentina  2017           0.0            1.0               Americas\n",
      "4      Armenia  2017           0.0            NaN                 Europe None\n",
      "<class 'pandas.core.frame.DataFrame'>\n",
      "RangeIndex: 856 entries, 0 to 855\n",
      "Data columns (total 11 columns):\n",
      " #   Column                Non-Null Count  Dtype  \n",
      "---  ------                --------------  -----  \n",
      " 0   Country               856 non-null    object \n",
      " 1   Year                  856 non-null    int64  \n",
      " 2   No. of cases          856 non-null    object \n",
      " 3   No. of deaths         856 non-null    object \n",
      " 4   No. of cases_median   856 non-null    int64  \n",
      " 5   No. of cases_min      544 non-null    float64\n",
      " 6   No. of cases_max      544 non-null    float64\n",
      " 7   No. of deaths_median  856 non-null    int64  \n",
      " 8   No. of deaths_min     524 non-null    float64\n",
      " 9   No. of deaths_max     524 non-null    float64\n",
      " 10  WHO Region            856 non-null    object \n",
      "dtypes: float64(4), int64(3), object(4)\n",
      "memory usage: 73.7+ KB\n",
      "       Country  Year              No. of cases      No. of deaths  \\\n",
      "0  Afghanistan  2017     630308[495000-801000]       298[110-510]   \n",
      "1      Algeria  2017                         0                  0   \n",
      "2       Angola  2017  4615605[3106000-6661000]  13316[9970-16600]   \n",
      "3    Argentina  2017                         0                  0   \n",
      "4      Armenia  2017                         0                  0   \n",
      "\n",
      "   No. of cases_median  No. of cases_min  No. of cases_max  \\\n",
      "0               630308          495000.0          801000.0   \n",
      "1                    0               NaN               NaN   \n",
      "2              4615605         3106000.0         6661000.0   \n",
      "3                    0               NaN               NaN   \n",
      "4                    0               NaN               NaN   \n",
      "\n",
      "   No. of deaths_median  No. of deaths_min  No. of deaths_max  \\\n",
      "0                   298              110.0              510.0   \n",
      "1                     0                NaN                NaN   \n",
      "2                 13316             9970.0            16600.0   \n",
      "3                     0                NaN                NaN   \n",
      "4                     0                NaN                NaN   \n",
      "\n",
      "              WHO Region  \n",
      "0  Eastern Mediterranean  \n",
      "1                 Africa  \n",
      "2                 Africa  \n",
      "3               Americas  \n",
      "4                 Europe   None\n",
      "<class 'pandas.core.frame.DataFrame'>\n",
      "RangeIndex: 2033 entries, 0 to 2032\n",
      "Data columns (total 4 columns):\n",
      " #   Column        Non-Null Count  Dtype  \n",
      "---  ------        --------------  -----  \n",
      " 0   Country       2033 non-null   object \n",
      " 1   Year          2033 non-null   int64  \n",
      " 2   No. of cases  2033 non-null   float64\n",
      " 3   WHO Region    2033 non-null   object \n",
      "dtypes: float64(1), int64(1), object(2)\n",
      "memory usage: 63.7+ KB\n",
      "       Country  Year  No. of cases             WHO Region\n",
      "0  Afghanistan  2018         29.01  Eastern Mediterranean\n",
      "1      Algeria  2018          0.00                 Africa\n",
      "2       Angola  2018        228.91                 Africa\n",
      "3    Argentina  2018          0.00               Americas\n",
      "4      Armenia  2018          0.00                 Europe None\n"
     ]
    }
   ],
   "source": [
    "#--EDA--#\n",
    "print(rdata.head() , rdata.info())\n",
    "print(edata.head() , edata.info()) \n",
    "print(idata.head() , idata.info())"
   ]
  },
  {
   "cell_type": "code",
   "execution_count": 4,
   "metadata": {},
   "outputs": [],
   "source": [
    "def getUnique(df):\n",
    "    for col in df.columns:\n",
    "        print(col + \" : \" + str(df[col].nunique()))"
   ]
  },
  {
   "cell_type": "code",
   "execution_count": 5,
   "metadata": {},
   "outputs": [
    {
     "name": "stdout",
     "output_type": "stream",
     "text": [
      "Country : 108\n",
      "Year : 18\n",
      "No. of cases : 1426\n",
      "No. of deaths : 708\n",
      "WHO Region : 6\n"
     ]
    }
   ],
   "source": [
    "getUnique(rdata)"
   ]
  },
  {
   "cell_type": "code",
   "execution_count": 6,
   "metadata": {},
   "outputs": [
    {
     "name": "stdout",
     "output_type": "stream",
     "text": [
      "Country : 107\n",
      "Year : 8\n",
      "No. of cases : 695\n",
      "No. of deaths : 519\n",
      "No. of cases_median : 694\n",
      "No. of cases_min : 448\n",
      "No. of cases_max : 481\n",
      "No. of deaths_median : 447\n",
      "No. of deaths_min : 255\n",
      "No. of deaths_max : 336\n",
      "WHO Region : 6\n"
     ]
    }
   ],
   "source": [
    "getUnique(edata)"
   ]
  },
  {
   "cell_type": "code",
   "execution_count": 7,
   "metadata": {},
   "outputs": [
    {
     "name": "stdout",
     "output_type": "stream",
     "text": [
      "Country : 107\n",
      "Year : 19\n",
      "No. of cases : 1432\n",
      "WHO Region : 6\n"
     ]
    }
   ],
   "source": [
    "getUnique(idata)"
   ]
  },
  {
   "cell_type": "code",
   "execution_count": 8,
   "metadata": {},
   "outputs": [
    {
     "data": {
      "text/html": [
       "<div>\n",
       "<style scoped>\n",
       "    .dataframe tbody tr th:only-of-type {\n",
       "        vertical-align: middle;\n",
       "    }\n",
       "\n",
       "    .dataframe tbody tr th {\n",
       "        vertical-align: top;\n",
       "    }\n",
       "\n",
       "    .dataframe thead th {\n",
       "        text-align: right;\n",
       "    }\n",
       "</style>\n",
       "<table border=\"1\" class=\"dataframe\">\n",
       "  <thead>\n",
       "    <tr style=\"text-align: right;\">\n",
       "      <th></th>\n",
       "      <th>WHO Region</th>\n",
       "      <th>No. of cases</th>\n",
       "      <th>Percentage</th>\n",
       "    </tr>\n",
       "  </thead>\n",
       "  <tbody>\n",
       "    <tr>\n",
       "      <th>0</th>\n",
       "      <td>Africa</td>\n",
       "      <td>586002159.0</td>\n",
       "      <td>87.930388</td>\n",
       "    </tr>\n",
       "    <tr>\n",
       "      <th>1</th>\n",
       "      <td>Americas</td>\n",
       "      <td>13894342.0</td>\n",
       "      <td>2.084864</td>\n",
       "    </tr>\n",
       "    <tr>\n",
       "      <th>2</th>\n",
       "      <td>Eastern Mediterranean</td>\n",
       "      <td>19932663.0</td>\n",
       "      <td>2.990922</td>\n",
       "    </tr>\n",
       "    <tr>\n",
       "      <th>3</th>\n",
       "      <td>Europe</td>\n",
       "      <td>112675.0</td>\n",
       "      <td>0.016907</td>\n",
       "    </tr>\n",
       "    <tr>\n",
       "      <th>4</th>\n",
       "      <td>South-East Asia</td>\n",
       "      <td>39468640.0</td>\n",
       "      <td>5.922321</td>\n",
       "    </tr>\n",
       "    <tr>\n",
       "      <th>5</th>\n",
       "      <td>Western Pacific</td>\n",
       "      <td>7028251.0</td>\n",
       "      <td>1.054598</td>\n",
       "    </tr>\n",
       "  </tbody>\n",
       "</table>\n",
       "</div>"
      ],
      "text/plain": [
       "              WHO Region  No. of cases  Percentage\n",
       "0                 Africa   586002159.0   87.930388\n",
       "1               Americas    13894342.0    2.084864\n",
       "2  Eastern Mediterranean    19932663.0    2.990922\n",
       "3                 Europe      112675.0    0.016907\n",
       "4        South-East Asia    39468640.0    5.922321\n",
       "5        Western Pacific     7028251.0    1.054598"
      ]
     },
     "execution_count": 8,
     "metadata": {},
     "output_type": "execute_result"
    }
   ],
   "source": [
    "reported = rdata.groupby(['WHO Region']).agg({'No. of cases' : 'sum'}).reset_index()\n",
    "x = rdata['No. of cases'].sum()\n",
    "reported['Percentage'] = (reported['No. of cases']/x)*100\n",
    "reported"
   ]
  },
  {
   "cell_type": "code",
   "execution_count": 9,
   "metadata": {},
   "outputs": [
    {
     "data": {
      "text/plain": [
       "Text(0.5, 1.0, 'In other WHO Regions')"
      ]
     },
     "execution_count": 9,
     "metadata": {},
     "output_type": "execute_result"
    },
    {
     "data": {
      "image/png": "[encoded data removed]",
      "text/plain": [
       "<Figure size 1440x360 with 2 Axes>"
      ]
     },
     "metadata": {
      "needs_background": "light"
     },
     "output_type": "display_data"
    }
   ],
   "source": [
    "fig_dims = (20, 5)\n",
    "\n",
    "fig, axes = plt.subplots(1, 2, figsize=fig_dims)\n",
    "sns.barplot(x = 'Year' , y = 'No. of cases' , data = rdata[rdata['WHO Region'] == 'Africa'], ax= axes[0]).set_title(\"In Africa\")\n",
    "sns.barplot(x = 'Year' , y = 'No. of cases' , data = rdata[rdata['WHO Region'] != 'Africa'], ax= axes[1]).set_title(\"In other WHO Regions\")"
   ]
  },
  {
   "cell_type": "code",
   "execution_count": 10,
   "metadata": {},
   "outputs": [
    {
     "data": {
      "text/html": [
       "<div>\n",
       "<style scoped>\n",
       "    .dataframe tbody tr th:only-of-type {\n",
       "        vertical-align: middle;\n",
       "    }\n",
       "\n",
       "    .dataframe tbody tr th {\n",
       "        vertical-align: top;\n",
       "    }\n",
       "\n",
       "    .dataframe thead th {\n",
       "        text-align: right;\n",
       "    }\n",
       "</style>\n",
       "<table border=\"1\" class=\"dataframe\">\n",
       "  <thead>\n",
       "    <tr style=\"text-align: right;\">\n",
       "      <th></th>\n",
       "      <th>WHO Region</th>\n",
       "      <th>No. of cases_median</th>\n",
       "      <th>Percentage</th>\n",
       "    </tr>\n",
       "  </thead>\n",
       "  <tbody>\n",
       "    <tr>\n",
       "      <th>0</th>\n",
       "      <td>Africa</td>\n",
       "      <td>1587152540</td>\n",
       "      <td>89.056616</td>\n",
       "    </tr>\n",
       "    <tr>\n",
       "      <th>1</th>\n",
       "      <td>Americas</td>\n",
       "      <td>13025802</td>\n",
       "      <td>0.730890</td>\n",
       "    </tr>\n",
       "    <tr>\n",
       "      <th>2</th>\n",
       "      <td>Eastern Mediterranean</td>\n",
       "      <td>34456176</td>\n",
       "      <td>1.933368</td>\n",
       "    </tr>\n",
       "    <tr>\n",
       "      <th>3</th>\n",
       "      <td>Europe</td>\n",
       "      <td>262</td>\n",
       "      <td>0.000015</td>\n",
       "    </tr>\n",
       "    <tr>\n",
       "      <th>4</th>\n",
       "      <td>South-East Asia</td>\n",
       "      <td>132725734</td>\n",
       "      <td>7.447365</td>\n",
       "    </tr>\n",
       "    <tr>\n",
       "      <th>5</th>\n",
       "      <td>Western Pacific</td>\n",
       "      <td>14823234</td>\n",
       "      <td>0.831746</td>\n",
       "    </tr>\n",
       "  </tbody>\n",
       "</table>\n",
       "</div>"
      ],
      "text/plain": [
       "              WHO Region  No. of cases_median  Percentage\n",
       "0                 Africa           1587152540   89.056616\n",
       "1               Americas             13025802    0.730890\n",
       "2  Eastern Mediterranean             34456176    1.933368\n",
       "3                 Europe                  262    0.000015\n",
       "4        South-East Asia            132725734    7.447365\n",
       "5        Western Pacific             14823234    0.831746"
      ]
     },
     "execution_count": 10,
     "metadata": {},
     "output_type": "execute_result"
    }
   ],
   "source": [
    "estimated = edata.groupby(['WHO Region']).agg({'No. of cases_median' : 'sum'}).reset_index()\n",
    "x = edata['No. of cases_median'].sum()\n",
    "estimated['Percentage'] = (estimated['No. of cases_median']/x)*100\n",
    "estimated"
   ]
  },
  {
   "cell_type": "code",
   "execution_count": 11,
   "metadata": {},
   "outputs": [
    {
     "data": {
      "text/plain": [
       "Text(0.5, 1.0, 'In other WHO Regions')"
      ]
     },
     "execution_count": 11,
     "metadata": {},
     "output_type": "execute_result"
    },
    {
     "data": {
      "image/png": "[encoded data removed]",
      "text/plain": [
       "<Figure size 1440x360 with 2 Axes>"
      ]
     },
     "metadata": {
      "needs_background": "light"
     },
     "output_type": "display_data"
    }
   ],
   "source": [
    "fig_dims = (20, 5)\n",
    "\n",
    "fig, axes = plt.subplots(1,2 , figsize=fig_dims)\n",
    "sns.barplot(x = 'Year' , y = 'No. of cases_median' \n",
    "            , data = edata[edata['WHO Region'] == 'Africa'], ax= axes[0]).set_title(\"In Africa\")\n",
    "sns.barplot(x = 'Year' , y = 'No. of cases_median' \n",
    "            , data = edata[edata['WHO Region'] != 'Africa'], ax= axes[1]).set_title(\"In other WHO Regions\")"
   ]
  },
  {
   "cell_type": "code",
   "execution_count": 12,
   "metadata": {},
   "outputs": [
    {
     "name": "stdout",
     "output_type": "stream",
     "text": [
      "<class 'pandas.core.frame.DataFrame'>\n",
      "RangeIndex: 2033 entries, 0 to 2032\n",
      "Data columns (total 4 columns):\n",
      " #   Column        Non-Null Count  Dtype  \n",
      "---  ------        --------------  -----  \n",
      " 0   Country       2033 non-null   object \n",
      " 1   Year          2033 non-null   int64  \n",
      " 2   No. of cases  2033 non-null   float64\n",
      " 3   WHO Region    2033 non-null   object \n",
      "dtypes: float64(1), int64(1), object(2)\n",
      "memory usage: 63.7+ KB\n"
     ]
    }
   ],
   "source": [
    "idata.info()"
   ]
  },
  {
   "cell_type": "code",
   "execution_count": 13,
   "metadata": {},
   "outputs": [
    {
     "data": {
      "text/html": [
       "<div>\n",
       "<style scoped>\n",
       "    .dataframe tbody tr th:only-of-type {\n",
       "        vertical-align: middle;\n",
       "    }\n",
       "\n",
       "    .dataframe tbody tr th {\n",
       "        vertical-align: top;\n",
       "    }\n",
       "\n",
       "    .dataframe thead th {\n",
       "        text-align: right;\n",
       "    }\n",
       "</style>\n",
       "<table border=\"1\" class=\"dataframe\">\n",
       "  <thead>\n",
       "    <tr style=\"text-align: right;\">\n",
       "      <th></th>\n",
       "      <th>WHO Region</th>\n",
       "      <th>No. of cases</th>\n",
       "      <th>Percentage</th>\n",
       "    </tr>\n",
       "  </thead>\n",
       "  <tbody>\n",
       "    <tr>\n",
       "      <th>0</th>\n",
       "      <td>Africa</td>\n",
       "      <td>192303.47</td>\n",
       "      <td>86.632035</td>\n",
       "    </tr>\n",
       "    <tr>\n",
       "      <th>1</th>\n",
       "      <td>Americas</td>\n",
       "      <td>9666.15</td>\n",
       "      <td>4.354566</td>\n",
       "    </tr>\n",
       "    <tr>\n",
       "      <th>2</th>\n",
       "      <td>Eastern Mediterranean</td>\n",
       "      <td>4196.10</td>\n",
       "      <td>1.890328</td>\n",
       "    </tr>\n",
       "    <tr>\n",
       "      <th>3</th>\n",
       "      <td>Europe</td>\n",
       "      <td>107.84</td>\n",
       "      <td>0.048582</td>\n",
       "    </tr>\n",
       "    <tr>\n",
       "      <th>4</th>\n",
       "      <td>South-East Asia</td>\n",
       "      <td>2824.23</td>\n",
       "      <td>1.272306</td>\n",
       "    </tr>\n",
       "    <tr>\n",
       "      <th>5</th>\n",
       "      <td>Western Pacific</td>\n",
       "      <td>12879.53</td>\n",
       "      <td>5.802183</td>\n",
       "    </tr>\n",
       "  </tbody>\n",
       "</table>\n",
       "</div>"
      ],
      "text/plain": [
       "              WHO Region  No. of cases  Percentage\n",
       "0                 Africa     192303.47   86.632035\n",
       "1               Americas       9666.15    4.354566\n",
       "2  Eastern Mediterranean       4196.10    1.890328\n",
       "3                 Europe        107.84    0.048582\n",
       "4        South-East Asia       2824.23    1.272306\n",
       "5        Western Pacific      12879.53    5.802183"
      ]
     },
     "execution_count": 13,
     "metadata": {},
     "output_type": "execute_result"
    }
   ],
   "source": [
    "incidence = idata.groupby(['WHO Region']).agg({'No. of cases' : 'sum'}).reset_index()\n",
    "x = idata['No. of cases'].sum()\n",
    "incidence['Percentage'] = (incidence['No. of cases']/x)*100\n",
    "incidence"
   ]
  },
  {
   "cell_type": "code",
   "execution_count": 14,
   "metadata": {},
   "outputs": [
    {
     "data": {
      "text/plain": [
       "Text(0.5, 1.0, 'In other WHO Regions')"
      ]
     },
     "execution_count": 14,
     "metadata": {},
     "output_type": "execute_result"
    },
    {
     "data": {
      "image/png": "[encoded data removed]",
      "text/plain": [
       "<Figure size 1440x360 with 2 Axes>"
      ]
     },
     "metadata": {
      "needs_background": "light"
     },
     "output_type": "display_data"
    }
   ],
   "source": [
    "fig_dims = (20, 5)\n",
    "\n",
    "fig, axes = plt.subplots(1,2 , figsize=fig_dims)\n",
    "sns.barplot(x = 'Year' , y = 'No. of cases' \n",
    "            , data = idata[idata['WHO Region'] == 'Africa'], ax= axes[0]).set_title(\"In Africa\")\n",
    "sns.barplot(x = 'Year' , y = 'No. of cases' \n",
    "            , data = idata[idata['WHO Region'] != 'Africa'], ax= axes[1]).set_title(\"In other WHO Regions\")"
   ]
  },
  {
   "cell_type": "code",
   "execution_count": null,
   "metadata": {},
   "outputs": [],
   "source": []
  }
 ],
 "metadata": {
  "kernelspec": {
   "display_name": "Python 3",
   "language": "python",
   "name": "python3"
  },
  "language_info": {
   "codemirror_mode": {
    "name": "ipython",
    "version": 3
   },
   "file_extension": ".py",
   "mimetype": "text/x-python",
   "name": "python",
   "nbconvert_exporter": "python",
   "pygments_lexer": "ipython3",
   "version": "3.8.3"
  }
 },
 "nbformat": 4,
 "nbformat_minor": 4
}
