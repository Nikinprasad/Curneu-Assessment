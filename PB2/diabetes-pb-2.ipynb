{
 "cells": [
  {
   "cell_type": "markdown",
   "metadata": {},
   "source": [
    "# Curneu Problem Statement - 2"
   ]
  },
  {
   "cell_type": "markdown",
   "metadata": {},
   "source": [
    "### Nikinprasad V R\n",
    "### 1832038"
   ]
  },
  {
   "cell_type": "code",
   "execution_count": null,
   "metadata": {},
   "outputs": [],
   "source": [
    "import pandas as pd\n",
    "import numpy as np\n",
    "import seaborn as sns\n",
    "from sklearn.neighbors import KNeighborsClassifier\n",
    "from sklearn import preprocessing\n",
    "from sklearn.model_selection import train_test_split\n",
    "from sklearn.preprocessing import StandardScaler\n",
    "from sklearn.metrics import confusion_matrix,accuracy_score,precision_score,classification_report\n",
    "import matplotlib.pyplot as plt\n",
    "\n",
    "import warnings\n",
    "warnings.filterwarnings('ignore')"
   ]
  },
  {
   "cell_type": "code",
   "execution_count": null,
   "metadata": {},
   "outputs": [],
   "source": [
    "#--DATASET DECRIPTION--#\n",
    "data=pd.read_csv(\"D:\\#PROJECTS\\Curneu\\SD03Q016\\Diabetes Database.csv\")\n",
    "print('\\n')\n",
    "print(\"Description of the dataset\")\n",
    "print(data.describe())\n",
    "print(data.info())\n",
    "print(data.isnull().sum())\n",
    "print('\\n')\n",
    "print(\"Finding the Square Root of number of obervations in the dataset\") #Thumb rule\n",
    "print(data.shape)\n",
    "print(\"sqrt\", np.sqrt(769))"
   ]
  },
  {
   "cell_type": "code",
   "execution_count": null,
   "metadata": {},
   "outputs": [],
   "source": [
    "#--EDA--#\n",
    "ax = sns.countplot(data=data, x ='Pregnancies')\n",
    "ax.set_title('Diabetes positive vs Diabetes negative Frequency Distribution', fontsize=20)\n",
    "for p in ax.patches:\n",
    "        ax.annotate('{:}'.format(p.get_height()), (p.get_x()+0.15, p.get_height()+1))"
   ]
  },
  {
   "cell_type": "code",
   "execution_count": null,
   "metadata": {},
   "outputs": [],
   "source": [
    "ax = sns.countplot(data=data, x ='Outcome')\n",
    "ax.set_title('Diabetes positive vs Diabetes negative Frequency Distribution', fontsize=20)\n",
    "for p in ax.patches:\n",
    "        ax.annotate('{:}'.format(p.get_height()), (p.get_x()+0.15, p.get_height()+1))"
   ]
  },
  {
   "cell_type": "code",
   "execution_count": null,
   "metadata": {},
   "outputs": [],
   "source": [
    "ax = sns.countplot(data=data, x ='BMI')\n",
    "ax.set_title('Diabetes positive vs Diabetes negative Frequency Distribution', fontsize=20)\n",
    "for p in ax.patches:\n",
    "        ax.annotate('{:}'.format(p.get_height()), (p.get_x()+0.15, p.get_height()+1))"
   ]
  },
  {
   "cell_type": "code",
   "execution_count": null,
   "metadata": {},
   "outputs": [],
   "source": [
    "#--SPLITTING THE DATASET--#\n",
    "x=data.iloc[:,:-1].values\n",
    "y=data.iloc[:,-1].values\n",
    "x_train,x_test,y_train,y_test= train_test_split(x,y, test_size=0.1, random_state=0)"
   ]
  },
  {
   "cell_type": "code",
   "execution_count": null,
   "metadata": {},
   "outputs": [],
   "source": [
    "#--SCALLING--#\n",
    "sc = StandardScaler()\n",
    "X_train = sc.fit_transform(x_train)\n",
    "X_test = sc.fit_transform(x_test)\n",
    "X_train = pd.DataFrame(x_train)"
   ]
  },
  {
   "cell_type": "code",
   "execution_count": null,
   "metadata": {},
   "outputs": [],
   "source": [
    "#--FITTING THE MODEL--#\n",
    "knn= KNeighborsClassifier(n_neighbors=27) # The Neighbor is choosen based on Thumb rule\n",
    "knn.fit(x_train,y_train)\n",
    "y_test_pred=knn.predict(x_test)\n",
    "y_test_values=y_test\n",
    "print(\"Accuracy of the model is :\", knn.score(x_test,y_test)*100)\n",
    "y_pred = knn.predict(x_test)\n",
    "print(confusion_matrix(y_test,y_pred))\n",
    "classification = classification_report(y_test,y_pred)\n",
    "print(\"CALSSIFICATION REPORT OF KNN \\n\",classification)\n",
    "print('\\n')"
   ]
  },
  {
   "cell_type": "code",
   "execution_count": null,
   "metadata": {},
   "outputs": [],
   "source": [
    "#--PREDICTING THE VALUES--#\n",
    "print(\"PREDICTING VALUES\")\n",
    "y_predict=pd.DataFrame(data=[y_test_pred,y_test_values])\n",
    "print(knn.predict([[6,148,72,35,0,33,1,50]]))\n"
   ]
  },
  {
   "cell_type": "code",
   "execution_count": null,
   "metadata": {},
   "outputs": [],
   "source": []
  }
 ],
 "metadata": {
  "kernelspec": {
   "display_name": "Python 3",
   "language": "python",
   "name": "python3"
  },
  "language_info": {
   "codemirror_mode": {
    "name": "ipython",
    "version": 3
   },
   "file_extension": ".py",
   "mimetype": "text/x-python",
   "name": "python",
   "nbconvert_exporter": "python",
   "pygments_lexer": "ipython3",
   "version": "3.8.3"
  }
 },
 "nbformat": 4,
 "nbformat_minor": 4
}
